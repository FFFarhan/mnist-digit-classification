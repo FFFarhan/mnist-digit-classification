{
 "cells": [
  {
   "cell_type": "code",
   "execution_count": null,
   "id": "97338b2f-82eb-403a-a713-c2c6a950ad9b",
   "metadata": {},
   "outputs": [],
   "source": [
    "import tensorflow as tf\n",
    "from tensorflow import keras\n",
    "import numpy as np\n",
    "import pandas as pd\n",
    "import matplotlib as mpl\n",
    "import matplotlib.pyplot as plt\n",
    "import pydot\n",
    "import random"
   ]
  },
  {
   "cell_type": "code",
   "execution_count": null,
   "id": "5ae791c6-b6d2-4667-ba55-455ceadd1a47",
   "metadata": {},
   "outputs": [],
   "source": [
    "# Load the MNIST dataset using Keras\n",
    "mnist=keras.datasets.mnist\n",
    "(X_train_full, y_train_full), (X_test, y_test)=mnist.load_data()"
   ]
  },
  {
   "cell_type": "code",
   "execution_count": null,
   "id": "e83a2345-d2e0-4d87-b097-d8e207b65fab",
   "metadata": {},
   "outputs": [],
   "source": [
    "plt.imshow(X_train_full[0])"
   ]
  },
  {
   "cell_type": "code",
   "execution_count": null,
   "id": "925b5319-f53b-4770-a591-20ecafefc0d8",
   "metadata": {},
   "outputs": [],
   "source": [
    "tf.keras.datasets.mnist"
   ]
  },
  {
   "cell_type": "code",
   "execution_count": null,
   "id": "ab3672ce-0ee2-40af-9792-54876e03d1ec",
   "metadata": {},
   "outputs": [],
   "source": [
    "X_train_full[10]"
   ]
  },
  {
   "cell_type": "code",
   "execution_count": null,
   "id": "e2bc2fbb-efe8-42a3-80e7-881f8f4a719a",
   "metadata": {},
   "outputs": [],
   "source": [
    "# Normalize the pixel values of the images to the range [0, 1]\n",
    "X_train_n=X_train_full/255.                \n",
    "X_test_n=X_test/255."
   ]
  },
  {
   "cell_type": "code",
   "execution_count": null,
   "id": "31fa8a17-9615-498a-92bb-bf78e664a4cf",
   "metadata": {},
   "outputs": [],
   "source": [
    "# Split the training dataset into validation and training sets\n",
    "X_valid, X_train = X_train_n[:5000], X_train_n[5000:]\n",
    "y_valid, y_train = y_train_full[:5000], y_train_full[5000:]\n",
    "X_test = X_test_n  \n"
   ]
  },
  {
   "cell_type": "code",
   "execution_count": null,
   "id": "030fdb3d-3e78-4bb9-869c-b9ba332e411c",
   "metadata": {},
   "outputs": [],
   "source": [
    "# Set random seeds for reproducibility\n",
    "np.random.seed(42)\n",
    "tf.random.set_seed(42)\n",
    "random.seed(42)\n",
    "X_train_full.shape\n"
   ]
  },
  {
   "cell_type": "code",
   "execution_count": null,
   "id": "04378d65-7692-41c0-a9e6-18b4a1975c22",
   "metadata": {},
   "outputs": [],
   "source": [
    "# Create a sequential model using Keras\n",
    "model=keras.models.Sequential()\n",
    "\n",
    "# Add layers to the model\n",
    "model.add(keras.layers.Flatten(input_shape=[28,28]))       #flatten the input from a 28x28 array to 728px\n",
    "model.add(keras.layers.Dense(300, activation=\"relu\"))      #hidden layer 1\n",
    "model.add(keras.layers.Dense(100, activation=\"relu\"))      #hidden layer 2\n",
    "model.add(keras.layers.Dense(10, activation=\"softmax\"))    #output layer"
   ]
  },
  {
   "cell_type": "code",
   "execution_count": null,
   "id": "c0e763ce-8e24-4ce7-aeef-c19b43f8d7d2",
   "metadata": {},
   "outputs": [],
   "source": [
    "model.summary()"
   ]
  },
  {
   "cell_type": "code",
   "execution_count": null,
   "id": "71dd91ad-e5de-41d3-8afb-1324c9aba0be",
   "metadata": {},
   "outputs": [],
   "source": [
    " # Load a pre-trained model from a saved HDF5 file(if it has been trained before)\n",
    "model=keras.models.load_model(\"C:/Users/farha_5s5ygrk/modeltrainingdata.h5\")       #make sure to change the path\n",
    "\n",
    "# Compile the model with loss function, optimizer, and evaluation metric\n",
    "model.compile(loss=\"sparse_categorical_crossentropy\",\n",
    "                optimizer=\"sgd\",\n",
    "                metrics=[\"accuracy\"])\n",
    "\n",
    "# Train the model using the training data and validate using the validation data\n",
    "history=model.fit(X_train, y_train, epochs=20, validation_data=(X_valid, y_valid), verbose=1)"
   ]
  },
  {
   "cell_type": "code",
   "execution_count": null,
   "id": "3fd9c9d8-3c00-4578-b810-4da956badae9",
   "metadata": {},
   "outputs": [],
   "source": [
    "model.save(\"C:/Users/farha_5s5ygrk/modeltrainingdata.h5\")                       #make sure to change the path"
   ]
  },
  {
   "cell_type": "code",
   "execution_count": null,
   "id": "a9d223ec-095c-428d-a473-29df6c42d3c8",
   "metadata": {},
   "outputs": [],
   "source": [
    "# Plot the training history (accuracy and loss) over epochs\n",
    "pd.DataFrame(history.history).plot(figsize=(8,5))\n",
    "plt.grid(True)\n",
    "plt.gca().set_ylim(0,1)\n",
    "plt.show()"
   ]
  },
  {
   "cell_type": "code",
   "execution_count": null,
   "id": "d22c22cf-40f2-4440-a8af-5d32dbd7f12c",
   "metadata": {},
   "outputs": [],
   "source": [
    "# Evaluate the trained model on the test data\n",
    "model.evaluate(X_test, y_test)"
   ]
  },
  {
   "cell_type": "code",
   "execution_count": null,
   "id": "9845318c-50db-4f24-b774-403aa3500642",
   "metadata": {},
   "outputs": [],
   "source": [
    "# Make predictions on new digit images\n",
    "X_new=X_test"
   ]
  },
  {
   "cell_type": "code",
   "execution_count": null,
   "id": "279eb476-1b30-46af-8d5e-39de381160a9",
   "metadata": {},
   "outputs": [],
   "source": [
    "y_prob=model.predict(X_new)\n",
    "y_prob"
   ]
  },
  {
   "cell_type": "code",
   "execution_count": null,
   "id": "e18c35e6-4b4b-420f-9fc8-e3f2eeb6a58b",
   "metadata": {},
   "outputs": [],
   "source": [
    "y_pred=np.argmax(y_prob, axis=1)    "
   ]
  },
  {
   "cell_type": "code",
   "execution_count": null,
   "id": "76062437-bea2-4fa8-b354-2c37af766a48",
   "metadata": {},
   "outputs": [],
   "source": [
    "print(\"Predicted labels:\", y_pred)"
   ]
  },
  {
   "cell_type": "code",
   "execution_count": null,
   "id": "5d24158d-8e43-43fe-8fe3-5b9bd0abc446",
   "metadata": {},
   "outputs": [],
   "source": [
    "plt.imshow(X_test[2])"
   ]
  },
  {
   "cell_type": "code",
   "execution_count": null,
   "id": "c1d377a7-4a00-4041-9c8b-467b24729762",
   "metadata": {},
   "outputs": [],
   "source": [
    "# Display a grid of example digit images with their true and predicted labels\n",
    "plt.figure(figsize=(14,14))\n",
    "for i in range(25):\n",
    "    plt.subplot(5, 5, i + 1)\n",
    "    plt.imshow(X_test[i], cmap=\"binary\")\n",
    "    plt.axis('off')\n",
    "    plt.title(f\"True: {y_test[i]}, Predicted: {y_pred[i]}\")\n",
    "plt.show()"
   ]
  },
  {
   "cell_type": "code",
   "execution_count": null,
   "id": "bb8d3e2c-0f74-48ae-83b1-c6afd06125f4",
   "metadata": {},
   "outputs": [],
   "source": []
  }
 ],
 "metadata": {
  "kernelspec": {
   "display_name": "firstEnv",
   "language": "python",
   "name": "firstenv"
  },
  "language_info": {
   "codemirror_mode": {
    "name": "ipython",
    "version": 3
   },
   "file_extension": ".py",
   "mimetype": "text/x-python",
   "name": "python",
   "nbconvert_exporter": "python",
   "pygments_lexer": "ipython3",
   "version": "3.9.15"
  },
  "widgets": {
   "application/vnd.jupyter.widget-state+json": {
    "state": {},
    "version_major": 2,
    "version_minor": 0
   }
  }
 },
 "nbformat": 4,
 "nbformat_minor": 5
}
